{
 "cells": [
  {
   "cell_type": "code",
   "execution_count": null,
   "metadata": {},
   "outputs": [],
   "source": [
    "!pip install selenium"
   ]
  },
  {
   "cell_type": "code",
   "execution_count": null,
   "metadata": {},
   "outputs": [],
   "source": [
    "mapCord = \"-118.33681%2C34.08500%2C15\"\n",
    "user = ''\n",
    "loc = \"UCLA\"\n",
    "\n",
    "# Define the path to your text file\n",
    "file_path = \"data.txt\"  # Replace \"your_file.txt\" with the path to your text file\n",
    "\n",
    "# Initialize an empty dictionary to store the data\n",
    "data_dict = {}\n",
    "\n",
    "# Open the text file and read its contents line by line\n",
    "with open(file_path, \"r\") as file:\n",
    "    for line in file:\n",
    "        # Split each line into a date and a number\n",
    "        date, number = line.strip().split()\n",
    "        # Add the date and number to the dictionary\n",
    "        data_dict[date] = int(number)\n",
    "\n",
    "# Print the dictionary\n",
    "print(data_dict)\n",
    "\n",
    "from selenium import webdriver\n",
    "from selenium.webdriver.common.by import By\n",
    "from PIL import Image\n",
    "import time\n",
    "from tqdm import tqdm\n",
    "\n",
    "for date in tqdm(data_dict, desc=\"Capturing Screenshots\"):\n",
    "    # Initialize the WebDriver for Firefox\n",
    "    browser = webdriver.Firefox()\n",
    "    \n",
    "    browser.maximize_window()\n",
    "\n",
    "    # Navigate to the URL\n",
    "    link = 'https://livingatlas.arcgis.com/wayback/#active='+ str(data_dict[date]) +'&mapCenter='+mapCord\n",
    "\n",
    "    browser.get(link)\n",
    "\n",
    "    # Wait for the cookie consent popup to load\n",
    "    time.sleep(2)  # Adjust time as necessary\n",
    "\n",
    "    # Click the \"Accept All Cookies\" button\n",
    "    accept_button = browser.find_element(By.ID, \"onetrust-accept-btn-handler\")\n",
    "    accept_button.click()\n",
    "\n",
    "    # Wait for the accept button to process\n",
    "    time.sleep(2)\n",
    "\n",
    "    checkbox_div = browser.find_element(By.CSS_SELECTOR, \"div.margin-left-half.margin-right-quarter.cursor-pointer\")\n",
    "    checkbox_div.click()\n",
    "\n",
    "    time.sleep(2)\n",
    "\n",
    "    # Take a screenshot and save it\n",
    "    screenshot_path = 'C:/Users/'+user+'/Downloads/'+loc+'/temp.png'\n",
    "    browser.save_screenshot(screenshot_path)\n",
    "\n",
    "    left = 400\n",
    "    upper = 60\n",
    "    right = 1910\n",
    "    lower = 930\n",
    "\n",
    "    # Open the full screenshot and crop it to the red boundary area\n",
    "    img = Image.open(screenshot_path)\n",
    "    cropped_img = img.crop((left, upper, right, lower))\n",
    "\n",
    "    # Save the cropped image\n",
    "    cropped_img_path = 'C:/Users/'+user+'/Downloads/'+loc+'/' + date + '.png'\n",
    "    cropped_img.save(cropped_img_path)\n",
    "\n",
    "    # Clean up by closing the browser\n",
    "    browser.quit()\n"
   ]
  }
 ],
 "metadata": {
  "kernelspec": {
   "display_name": "Python 3",
   "language": "python",
   "name": "python3"
  },
  "language_info": {
   "name": "python",
   "version": "3.9.6"
  },
  "orig_nbformat": 4,
  "vscode": {
   "interpreter": {
    "hash": "31f2aee4e71d21fbe5cf8b01ff0e069b9275f58929596ceb00d14d90e3e16cd6"
   }
  }
 },
 "nbformat": 4,
 "nbformat_minor": 2
}
